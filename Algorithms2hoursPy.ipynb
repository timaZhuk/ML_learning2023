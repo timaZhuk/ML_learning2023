{
 "cells": [
  {
   "cell_type": "markdown",
   "id": "f3f02dee",
   "metadata": {},
   "source": [
    "## Algorithms in Python – Full Course for Beginners\n",
    "* https://www.youtube.com/watch?v=fW_OS3LGB9Q\n",
    "\n",
    "* Algorithm is a set of instructions that we write to our computer to tell it What to do.\n",
    "* Or a collection of steps to solve a problem\n",
    "* A set of steps or instructions for completing a task\n",
    "* ******************************************************\n",
    "* Clearly defined problem statement, input and ouput\n",
    "* The steps need to be in a very specific order\n",
    "* The steps need to be distinct (no additinal subtasks)\n",
    "* Algorithm should produce a result\n",
    "* Algorithm should complete in a finite amount of time\n",
    "\n",
    "* ************************************************\n",
    "* Basic data structures\n",
    "* Big O notation \n",
    "* Searching algorithms\n",
    "* Sorting Algorithms\n",
    "* Graphs\n",
    "* Trees\n",
    "### Data structure: a named location that can be used to store and organize data\n",
    "one of the algorithm is a Linear serach - one bt one, examine the elements of an array to find a value\n",
    "\n",
    "\n"
   ]
  },
  {
   "cell_type": "markdown",
   "id": "555a14f8",
   "metadata": {},
   "source": [
    "###  Search algorithm, for example, is procedure that determines what kind of information is retrieved from a large mass of data\n",
    "### An encryption algorithm is a set f rules by which information or messages are encoded o that unauthorized persons cannot read them. \n",
    "* 1-Simple Recursive Algorithms\n",
    "* 2-Algorithms within Data Structures\n",
    "* 3-Divide and concquer\n",
    "* 4-Greedy Algorythms\n",
    "* 5-Dynamic Algorythms"
   ]
  },
  {
   "cell_type": "markdown",
   "id": "2ea36f94",
   "metadata": {},
   "source": [
    "## Binary search \n",
    "* its inputs is a sorted list of elements\n",
    "* it returns position of elemnt that you are looking for\n",
    "* Otherwise binary search returns null\n",
    "* [low=0][][][][mid][][][][high]. \n",
    "* **************************************************************\n",
    "* Big O\n",
    "* Theoretical defenition of the complexity of an algorithm as a function of size. \n",
    "* O(n) - Order of magnitude of complexity. \n",
    "* "
   ]
  },
  {
   "cell_type": "code",
   "execution_count": null,
   "id": "45c55924",
   "metadata": {},
   "outputs": [],
   "source": []
  },
  {
   "cell_type": "code",
   "execution_count": 15,
   "id": "989a507c",
   "metadata": {},
   "outputs": [
    {
     "data": {
      "text/plain": [
       "9"
      ]
     },
     "execution_count": 15,
     "metadata": {},
     "output_type": "execute_result"
    }
   ],
   "source": [
    "def binary_search(list, item):\n",
    "    low = 0 # first index of array, list\n",
    "    high = len(list)-1 # the last element of list\n",
    "    while low <=high:\n",
    "        mid = int((low+high)/2) # find a middle index of list\n",
    "        guess = list[mid] # finde the guess value\n",
    "        if guess == item: # if guess is equal item\n",
    "            return mid\n",
    "        if guess > item: # if guess bigger than item \n",
    "            high = mid-1 # we cut the biigest list items and go to lowest part of list\n",
    "        else:\n",
    "            low = mid+1  # if guess less than item, we look at second list\n",
    "    return None\n",
    "\n",
    "arr = [1, 3, 10, 16, 20, 27, 30, 45, 50, 56, 67, 72]\n",
    "binary_search(arr, 56)\n",
    "    "
   ]
  },
  {
   "cell_type": "code",
   "execution_count": null,
   "id": "5b6b922f",
   "metadata": {},
   "outputs": [],
   "source": []
  },
  {
   "cell_type": "markdown",
   "id": "1b24623f",
   "metadata": {},
   "source": [
    "### Simple Recursive Algorithm"
   ]
  },
  {
   "cell_type": "code",
   "execution_count": 2,
   "id": "48788d33",
   "metadata": {},
   "outputs": [
    {
     "name": "stdout",
     "output_type": "stream",
     "text": [
      "120\n"
     ]
    }
   ],
   "source": [
    "# Factorials\n",
    "# n! = (n-0)*(n-1)*(n-2)*(n-3)*(n-4)....\n",
    "# loop function for factorial\n",
    "def iterative_factorial(n):\n",
    "    fact = 1\n",
    "    for i in range(2, n+1):\n",
    "        fact*=i\n",
    "    return fact\n",
    "print(iterative_factorial(5)) #5! = 120\n"
   ]
  },
  {
   "cell_type": "code",
   "execution_count": 7,
   "id": "c8e2b0f2",
   "metadata": {},
   "outputs": [
    {
     "data": {
      "text/plain": [
       "6"
      ]
     },
     "execution_count": 7,
     "metadata": {},
     "output_type": "execute_result"
    }
   ],
   "source": [
    "def recursion_factor(n):\n",
    "    if n == 1 or n == 0:\n",
    "        return 1\n",
    "    else:\n",
    "        temp = recursion_factor(n-1) # invoke function with n-1, then next function call n-2 etc.\n",
    "        #print(temp)\n",
    "        temp = temp*n \n",
    "       \n",
    "    return temp\n",
    "\n",
    "recursion_factor(3)"
   ]
  },
  {
   "cell_type": "markdown",
   "id": "8ae2002d",
   "metadata": {},
   "source": [
    "### Permutations when you take a set of elemnts and find all different variation that can be made with them.\n",
    "* ABC > BAC > BCA > CBA > ACB > CAB (6 COMBINATIONS = 3!)"
   ]
  },
  {
   "cell_type": "code",
   "execution_count": 14,
   "id": "10518d1c",
   "metadata": {},
   "outputs": [
    {
     "name": "stdout",
     "output_type": "stream",
     "text": [
      "CBA\n",
      "BCA\n",
      "CAB\n",
      "ACB\n",
      "BAC\n",
      "ABC\n",
      "None\n"
     ]
    }
   ],
   "source": [
    "def permute(string, pocket=\"\"):\n",
    "    if len(string)==0:\n",
    "        print(pocket)\n",
    "    else:\n",
    "        for i in range(len(string)): \n",
    "            letter = string[i] # take i letter A, (B)\n",
    "            #print(letter)\n",
    "            front =  string[0:i] # take letters before i letter \"\"\n",
    "            \n",
    "            back = string[i+1:]  # take  letters after i letter BC (C)\n",
    "            \n",
    "            together = front + back  # concatinate letters before i with letters after i (BC)\n",
    "            #print(together)\n",
    "            permute(together, letter+pocket) # recursive invoke function then concat i letter to enpty string = \"\" \n",
    "            # A+\"\", B+\"\"+ \n",
    "\n",
    "print(permute(\"ABC\", \"\"))"
   ]
  },
  {
   "cell_type": "code",
   "execution_count": null,
   "id": "3b8d9413",
   "metadata": {},
   "outputs": [],
   "source": []
  },
  {
   "cell_type": "code",
   "execution_count": null,
   "id": "3992d566",
   "metadata": {},
   "outputs": [],
   "source": []
  },
  {
   "cell_type": "code",
   "execution_count": null,
   "id": "46bd4546",
   "metadata": {},
   "outputs": [],
   "source": []
  },
  {
   "cell_type": "markdown",
   "id": "0a0d7407",
   "metadata": {},
   "source": [
    "# Python and databases"
   ]
  },
  {
   "cell_type": "code",
   "execution_count": 16,
   "id": "6131e7f8",
   "metadata": {},
   "outputs": [
    {
     "name": "stdout",
     "output_type": "stream",
     "text": [
      "Enter a name:Tim\n",
      "Tim\n"
     ]
    }
   ],
   "source": [
    "name = input('Enter a name:')\n",
    "print(name)"
   ]
  },
  {
   "cell_type": "code",
   "execution_count": 18,
   "id": "d2440cf4",
   "metadata": {},
   "outputs": [
    {
     "name": "stdout",
     "output_type": "stream",
     "text": [
      "Enter the number:11\n"
     ]
    }
   ],
   "source": [
    "num = input('Enter the number:')\n",
    "x=100\n",
    "result=int(num)-100"
   ]
  },
  {
   "cell_type": "code",
   "execution_count": 19,
   "id": "307ff9b5",
   "metadata": {},
   "outputs": [
    {
     "name": "stdout",
     "output_type": "stream",
     "text": [
      "-89\n"
     ]
    }
   ],
   "source": [
    "print(result)"
   ]
  },
  {
   "cell_type": "code",
   "execution_count": 26,
   "id": "fe00ea2c",
   "metadata": {},
   "outputs": [
    {
     "name": "stdout",
     "output_type": "stream",
     "text": [
      "o, r, a, n, g, e, o, o, o, o, "
     ]
    }
   ],
   "source": [
    "fruit = \"orangeoooo\"\n",
    "index=0\n",
    "while index <len(fruit):\n",
    "    print(fruit[index], end=', ')\n",
    "    index = index+1"
   ]
  },
  {
   "cell_type": "code",
   "execution_count": 27,
   "id": "c524a314",
   "metadata": {},
   "outputs": [
    {
     "name": "stdout",
     "output_type": "stream",
     "text": [
      "5\n"
     ]
    }
   ],
   "source": [
    "count=0\n",
    "for letter in fruit:\n",
    "    if letter == 'o':\n",
    "        count=count+1\n",
    "print(count)"
   ]
  },
  {
   "cell_type": "code",
   "execution_count": null,
   "id": "a1c1b47d",
   "metadata": {},
   "outputs": [],
   "source": []
  },
  {
   "cell_type": "code",
   "execution_count": null,
   "id": "aee20f78",
   "metadata": {},
   "outputs": [],
   "source": []
  },
  {
   "cell_type": "code",
   "execution_count": null,
   "id": "c35256ba",
   "metadata": {},
   "outputs": [],
   "source": []
  },
  {
   "cell_type": "code",
   "execution_count": null,
   "id": "c2b8da3a",
   "metadata": {},
   "outputs": [],
   "source": []
  }
 ],
 "metadata": {
  "kernelspec": {
   "display_name": "Python 3 (ipykernel)",
   "language": "python",
   "name": "python3"
  },
  "language_info": {
   "codemirror_mode": {
    "name": "ipython",
    "version": 3
   },
   "file_extension": ".py",
   "mimetype": "text/x-python",
   "name": "python",
   "nbconvert_exporter": "python",
   "pygments_lexer": "ipython3",
   "version": "3.10.5"
  }
 },
 "nbformat": 4,
 "nbformat_minor": 5
}
