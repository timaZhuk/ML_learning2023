{
 "cells": [
  {
   "cell_type": "markdown",
   "id": "e6032c42",
   "metadata": {},
   "source": [
    "# Hatree Fock Calculation\n",
    "#I know that DFT method much better, but I have to use more prooved and sophisticated libraries for MO enegries\n",
    "\n",
    "**FC = eSC**    # **e**-energy eigenvalues,  **S**-overlaping matrix for orbitals and **C** matric of molecular orbital(row is atomic orbital,columns is MO)\n",
    "**F = T+V_NE-V_EE**   # Where **T** kinetic energy of electron, **V_NE**-Nuclie attraction, **V_EE**-electron-electron repulsion with (with indistinguishability coeff)\n"
   ]
  },
  {
   "cell_type": "code",
   "execution_count": 10,
   "id": "2e8133c1",
   "metadata": {},
   "outputs": [],
   "source": [
    "import sys\n",
    "import math\n",
    "import numpy as np\n"
   ]
  },
  {
   "cell_type": "code",
   "execution_count": 11,
   "id": "383c0c92",
   "metadata": {},
   "outputs": [],
   "source": [
    "# for H2 and for H2O\n",
    "# alpha values (first col) and contraction coeff (second col)\n",
    "'''\n",
    "#----------------------------------------------------------------------\n",
    "# Basis Set Exchange\n",
    "# Version v0.9\n",
    "# https://www.basissetexchange.org\n",
    "#----------------------------------------------------------------------\n",
    "#   Basis set: STO-3G\n",
    "# Description: STO-3G Minimal Basis (3 functions/AO)\n",
    "#        Role: orbital\n",
    "#     Version: 1  (Data from Gaussian09)\n",
    "#----------------------------------------------------------------------\n",
    "\n",
    "\n",
    "BASIS \"ao basis\" SPHERICAL PRINT\n",
    "#BASIS SET: (3s) -> [1s]\n",
    "H    S\n",
    "      0.3425250914E+01       0.1543289673E+00\n",
    "      0.6239137298E+00       0.5353281423E+00\n",
    "      0.1688554040E+00       0.4446345422E+00\n",
    "END\n",
    "\n",
    "Hydrogen is linear combination of three Gaussian (1col) and its coeff(2col) \n",
    "\n",
    "'''\n",
    "#coordinates is a gaussian centers [x, y, z], li-angular momentum, for s --> l = 0\n",
    "\n",
    "class primitive_gaussian:\n",
    "    def __init__(self, alpha, coeff, coordinates, l1, l2, l3):\n",
    "        self.alpha = alpha\n",
    "        self.coeff = coeff\n",
    "        self.coordinates = np.array(coordinates)\n",
    "        self.A = (2.0*alpha/math.pi)**0.75   #+ other terms l1, l2, l3 > 0 (A-normalization constant)\n",
    "        \n",
    "\n"
   ]
  },
  {
   "cell_type": "code",
   "execution_count": 18,
   "id": "d92b8e97",
   "metadata": {},
   "outputs": [
    {
     "data": {
      "text/plain": [
       "\"\\nnbasis=len(molecule)\\nfor i in range(nbasis):\\n        for j in range(nbasis):\\n            print(i,'*',j)\\n\\n0 * 0\\n0 * 1\\n1 * 0\\n1 * 1\\n\\nS = np.zeros([nbasis,nbasis])\\narray([[0., 0.],\\n       [0., 0.]])\\n\""
      ]
     },
     "execution_count": 18,
     "metadata": {},
     "output_type": "execute_result"
    }
   ],
   "source": [
    "# write function for overlaping orbitals molecule = [H1_1s,H2_1s]--> S will be 2x2 matrix \n",
    "# because we have two basis 'molecule', for 3-basis mol we can get 3x3 S-matrix\n",
    "#matrix-vector multiplication with np.dot() or @.\n",
    "def overlap(molecule):\n",
    "    \n",
    "    nbasis=len(molecule) # length = 2\n",
    "    S = np.zeros([nbasis,nbasis])\n",
    "    #   ----- loop over each basis functions --------\n",
    "    # -- loop over S matrix\n",
    "    for i in range(nbasis):\n",
    "        for j in range(nbasis):\n",
    "            nprimitives_basis_i = len(molecule[i]) # extract each gaussian in H1_1s = [H1_pg1a,H1_pg1b ,H1_pg1c] #len = 3 \n",
    "            nprimitives_basis_j = len(molecule[j]) # extract each gaussian in H2_1s = [H2_pg1a,H2_pg1b ,H2_pg1c] #len = 3  \n",
    "            #print(f'molecule_i{i} --{nprimitives_basis_i}')\n",
    "            #print(f'molecule_j{j} --{nprimitives_basis_j}')\n",
    "            # then we exctract data from (k index) H1_pg1a,H1_pg1b ,H1_pg1c and (l-index)H2_pg1a,H2_pg1b ,H2_pg1c\n",
    "            for k in range(nprimitives_basis_i):\n",
    "                for l in range(nprimitives_basis_j):\n",
    "                    #molecule[i][k].A it like H1_1s calls --> H1_pg1a calls A = (2.0*alpha/math.pi)**0.75 etc\n",
    "                    #molecule[i][k].A it like H2_1s calls --> H2_pg1a calls A = (2.0*alpha/math.pi)**0.75 etc \n",
    "                    N = molecule[i][k].A*molecule[j][l].A # product of normalization const A(1)*A(2)\n",
    "                    p = molecule[i][k].alpha+molecule[j][l].alpha # sum of STO-3G gaussian \n",
    "                    q = molecule[i][k].alpha*molecule[j][l].alpha\n",
    "                    Q = molecule[i][k].coordinates-molecule[j][l].coordinates # distance between gaussians centers\n",
    "                    Q2 = np.dot(Q,Q)  # Q*Q dot product\n",
    "                    #print(p)\n",
    "                    # S[0,0] , S[0,1] ,S[1,0], S[1,1] fill the matrix by these elements \n",
    "                    S[i,j] += N*molecule[i][k].coeff*molecule[j][l].coeff*math.exp(-q*Q2)*(math.pi/p)**(3/2) \n",
    "    return S\n",
    "                    \n",
    "#-----------------------------------------------------------------------------------------------------------            \n",
    "            \n",
    "'''\n",
    "nbasis=len(molecule)\n",
    "for i in range(nbasis):\n",
    "        for j in range(nbasis):\n",
    "            print(i,'*',j)\n",
    "\n",
    "0 * 0\n",
    "0 * 1\n",
    "1 * 0\n",
    "1 * 1\n",
    "\n",
    "S = np.zeros([nbasis,nbasis])\n",
    "array([[0., 0.],\n",
    "       [0., 0.]])\n",
    "'''            "
   ]
  },
  {
   "cell_type": "code",
   "execution_count": 19,
   "id": "f4bddfff",
   "metadata": {},
   "outputs": [
    {
     "data": {
      "text/plain": [
       "'\\n\\n#----------------------------------------------------------------------\\n# Basis Set Exchange\\n# Version v0.9\\n# https://www.basissetexchange.org\\n#----------------------------------------------------------------------\\n#   Basis set: 6-31G\\n# Description: 6-31G valence double-zeta\\n#        Role: orbital\\n#     Version: 1  (Data from Gaussian 09/GAMESS)\\n#----------------------------------------------------------------------\\n\\n\\nBASIS \"ao basis\" SPHERICAL PRINT\\n#BASIS SET: (4s) -> [2s]\\nH    S\\n      0.1873113696E+02       0.3349460434E-01   # 1s\\n      0.2825394365E+01       0.2347269535E+00\\n      0.6401216923E+00       0.8137573261E+00\\nH    S\\n      0.1612777588E+00       1.0000000   # 2s\\nEND\\n\\n\\n'"
      ]
     },
     "execution_count": 19,
     "metadata": {},
     "output_type": "execute_result"
    }
   ],
   "source": [
    "'''\n",
    "\n",
    "#----------------------------------------------------------------------\n",
    "# Basis Set Exchange\n",
    "# Version v0.9\n",
    "# https://www.basissetexchange.org\n",
    "#----------------------------------------------------------------------\n",
    "#   Basis set: 6-31G\n",
    "# Description: 6-31G valence double-zeta\n",
    "#        Role: orbital\n",
    "#     Version: 1  (Data from Gaussian 09/GAMESS)\n",
    "#----------------------------------------------------------------------\n",
    "\n",
    "\n",
    "BASIS \"ao basis\" SPHERICAL PRINT\n",
    "#BASIS SET: (4s) -> [2s]\n",
    "H    S\n",
    "      0.1873113696E+02       0.3349460434E-01   # 1s\n",
    "      0.2825394365E+01       0.2347269535E+00\n",
    "      0.6401216923E+00       0.8137573261E+00\n",
    "H    S\n",
    "      0.1612777588E+00       1.0000000   # 2s\n",
    "END\n",
    "\n",
    "\n",
    "'''"
   ]
  },
  {
   "cell_type": "code",
   "execution_count": 30,
   "id": "018f9e7f",
   "metadata": {},
   "outputs": [
    {
     "name": "stdout",
     "output_type": "stream",
     "text": [
      "STO-3G: \n",
      " [[1.         0.67754344]\n",
      " [0.67754344 1.        ]]\n",
      "\n",
      "-------------------------------------------------------------------------\n",
      "6-31G: \n",
      " [[1.         0.65829197 0.38637502 0.54064104]\n",
      " [0.65829197 1.         0.54064104 0.96323763]\n",
      " [0.38637502 0.54064104 1.         0.65829197]\n",
      " [0.54064104 0.96323763 0.65829197 1.        ]]\n",
      "-------------------------------------------------------------------------\n"
     ]
    },
    {
     "data": {
      "text/plain": [
       "'\\narray([[1.        , 0.65829197, 0.38637502, 0.54064104],\\n       [0.65829197, 1.        , 0.54064104, 0.96323763],\\n       [0.38637502, 0.54064104, 1.        , 0.65829197],\\n       [0.54064104, 0.96323763, 0.65829197, 1.        ]])\\n'"
      ]
     },
     "execution_count": 30,
     "metadata": {},
     "output_type": "execute_result"
    }
   ],
   "source": [
    "#retrosynthetic analysis starting at end of molecules and working backwords \n",
    "#------------------------------------------------------------------------------------------\n",
    "# STO-3G for 1s orbitals\n",
    "# 1atom\n",
    "H1_pg1a = primitive_gaussian(0.3425250914E+01, 0.1543289673E+00, [0,0,0],0,0,0)\n",
    "H1_pg1b = primitive_gaussian(0.6239137298E+00, 0.5353281423E+00, [0,0,0],0,0,0)\n",
    "H1_pg1c = primitive_gaussian(0.1688554040E+00, 0.4446345422E+00, [0,0,0],0,0,0)\n",
    "# 2 atom with displacement 1.2 nm\n",
    "H2_pg1a = primitive_gaussian(0.3425250914E+01, 0.1543289673E+00, [1.2,0,0],0,0,0)  #1.2 displacment in x direction\n",
    "H2_pg1b = primitive_gaussian(0.6239137298E+00, 0.5353281423E+00, [1.2,0,0],0,0,0)\n",
    "H2_pg1c = primitive_gaussian(0.1688554040E+00, 0.4446345422E+00, [1.2,0,0],0,0,0)\n",
    "\n",
    "\n",
    "\n",
    "H1_1s = [H1_pg1a,H1_pg1b ,H1_pg1c]    # 1s orbital 1-Hydrogen atom consist of 3 primitive gaussianes\n",
    "H2_1s = [H2_pg1a,H2_pg1b ,H2_pg1c]    # 1s orbital 2-Hydrogen atom 3 primitive gaussianes\n",
    "\n",
    "molecule = [H1_1s,H2_1s] # molecule with two basis function for 1s orbitals\n",
    "#nbasis=len(molecule)\n",
    "print(\"STO-3G: \\n\",overlap(molecule))  # S-overlap matrix\n",
    "print()\n",
    "print(\"-------------------------------------------------------------------------\")\n",
    "'''\n",
    "[[1.         0.67754344]\n",
    " [0.67754344 1.        ]]\n",
    " \n",
    "'''\n",
    "#--------------------------------------------------------------------------------------------\n",
    "# 6-31G for 1s and 2s orbitals on hydrogen  \n",
    "# ---- 1atom -----\n",
    "# for 1s\n",
    "H1_pg1a = primitive_gaussian(0.1873113696E+02, 0.3349460434E-01, [0,0,0],0,0,0)\n",
    "H1_pg1b = primitive_gaussian(0.2825394365E+01 , 0.2347269535E+00, [0,0,0],0,0,0)\n",
    "H1_pg1c = primitive_gaussian(0.6401216923E+00, 0.8137573261E+00, [0,0,0],0,0,0)\n",
    "# for 2s\n",
    "H1_pg2a = primitive_gaussian(0.1612777588E+00, 1.0000000, [0,0,0],0,0,0)\n",
    "\n",
    "#---- 2atom ----\n",
    "# for 1s\n",
    "H2_pg1a = primitive_gaussian(0.1873113696E+02, 0.3349460434E-01, [1.2,0,0],0,0,0)\n",
    "H2_pg1b = primitive_gaussian(0.2825394365E+01 , 0.2347269535E+00, [1.2,0,0],0,0,0)\n",
    "H2_pg1c = primitive_gaussian(0.6401216923E+00, 0.8137573261E+00, [1.2,0,0],0,0,0)\n",
    "# for 2s\n",
    "H2_pg2a = primitive_gaussian(0.1612777588E+00, 1.0000000, [1.2,0,0],0,0,0)\n",
    "\n",
    "H1_1s = [H1_pg1a,H1_pg1b ,H1_pg1c]    # 1s orbital 1-Hydrogen atom consist of 3 primitive gaussianes\n",
    "H1_2s=[H1_pg2a] #2s orbital\n",
    "\n",
    "H2_1s = [H2_pg1a,H2_pg1b ,H2_pg1c]    # 1s orbital 2-Hydrogen atom 3 primitive gaussianes\n",
    "H2_2s=[H2_pg2a]  #2s orbital\n",
    "molecule = [H1_1s, H1_2s, H2_1s, H2_2s]\n",
    "#overlap(molecule) \n",
    "print(\"6-31G: \\n\",overlap(molecule))\n",
    "print(\"-------------------------------------------------------------------------\")\n",
    "'''\n",
    "ground state in the same place as my incoming\n",
    "array([[1.        , 0.65829197, 0.38637502, 0.54064104],\n",
    "       [0.65829197, 1.        , 0.54064104, 0.96323763],\n",
    "       [0.38637502, 0.54064104, 1.        , 0.65829197],\n",
    "       [0.54064104, 0.96323763, 0.65829197, 1.        ]])\n",
    "'''"
   ]
  },
  {
   "cell_type": "code",
   "execution_count": null,
   "id": "54c3cc1e",
   "metadata": {},
   "outputs": [],
   "source": []
  },
  {
   "cell_type": "code",
   "execution_count": null,
   "id": "4b017565",
   "metadata": {},
   "outputs": [],
   "source": []
  },
  {
   "cell_type": "code",
   "execution_count": null,
   "id": "3476e02e",
   "metadata": {},
   "outputs": [],
   "source": []
  },
  {
   "cell_type": "code",
   "execution_count": null,
   "id": "fb48310b",
   "metadata": {},
   "outputs": [],
   "source": []
  }
 ],
 "metadata": {
  "kernelspec": {
   "display_name": "Python 3 (ipykernel)",
   "language": "python",
   "name": "python3"
  },
  "language_info": {
   "codemirror_mode": {
    "name": "ipython",
    "version": 3
   },
   "file_extension": ".py",
   "mimetype": "text/x-python",
   "name": "python",
   "nbconvert_exporter": "python",
   "pygments_lexer": "ipython3",
   "version": "3.10.5"
  }
 },
 "nbformat": 4,
 "nbformat_minor": 5
}
