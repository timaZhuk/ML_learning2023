{
 "cells": [
  {
   "cell_type": "code",
   "execution_count": 3,
   "id": "f9abf008",
   "metadata": {},
   "outputs": [],
   "source": [
    "import numpy as np\n",
    "import matplotlib.pyplot as plt\n",
    "from matplotlib import animation\n",
    "from matplotlib.animation import PillowWriter\n",
    "plt.style.use(['science', 'notebook'])\n",
    "import sympy as smp\n"
   ]
  },
  {
   "cell_type": "markdown",
   "id": "e4fca26c",
   "metadata": {},
   "source": [
    "$$\n",
    "\\frac{d \\sigma}{d \\Omega} = \\frac{r_{e}^{2}}{2} \\frac{1+cos^2\\theta}{1+\\alpha(1-cos\\theta)^2} \\left[ 1+\\frac{\\alpha(1-cos\\theta)^2}{(1+cos^2 \\theta)(1+\\alpha(1-cos\\theta))} \\right]   \n",
    "$$\n",
    "* $r_e = 2.818 x10^{-15}$ m - radius of electron, classic\n",
    "* $\\alpha = \\frac{E}{mc^2}$ - where E is the energy of the incomming photon and m is the mass of electron"
   ]
  },
  {
   "cell_type": "markdown",
   "id": "a504fa07",
   "metadata": {},
   "source": [
    "* Part A: Compute $\\frac{d \\sigma}{d \\theta}$\n",
    "* Part B Compute $\\sigma$\n",
    "* Part C: Use $\\frac{d \\sigma}{d \\theta}$ and $\\sigma$ to fnd probability density\n",
    "******** rt A\n",
    "\n",
    "$$\n",
    "\\sigma = \\int d \\sigma = \\int \\frac{d \\sigma}{d \\Omega} d\\Omega\n",
    "$$\n",
    "$$\n",
    "= \\int_{0}^{2\\pi} \\int_{0}^{\\pi} \\frac{d \\sigma}{d\\Omega}sin\\theta d\\theta d\\phi \n",
    "$$\n",
    "$$\n",
    "\\int_{0}^{\\pi} \\left( \\int_{0}^{2\\pi}\\frac{d \\sigma}{d\\Omega}sin\\theta d\\phi \\right) d\\theta\n",
    "$$\n",
    "$$\n",
    "\\int_{0}^{\\pi} \\left( 2\\pi\\frac{d \\sigma}{d\\Omega}sin\\theta \\right) d\\theta\n",
    "$$\n",
    "$$\n",
    "\\frac{d \\sigma}{d\\theta}= 2\\pi \\frac{d\\sigma}{d\\Omega} sin\\theta\n",
    "$$"
   ]
  },
  {
   "cell_type": "code",
   "execution_count": 4,
   "id": "13bbb75a",
   "metadata": {},
   "outputs": [],
   "source": [
    "theta, alpha = smp.symbols(r'\\theta \\alpha', real = True, positive = True)"
   ]
  },
  {
   "cell_type": "code",
   "execution_count": 8,
   "id": "4def406c",
   "metadata": {},
   "outputs": [
    {
     "data": {
      "text/latex": [
       "$\\displaystyle \\frac{\\left(\\frac{\\alpha^{2} \\left(1 - \\cos{\\left(\\theta \\right)}\\right)^{2}}{\\left(\\alpha \\left(1 - \\cos{\\left(\\theta \\right)}\\right) + 1\\right) \\left(\\cos^{2}{\\left(\\theta \\right)} + 1\\right)} + 1\\right) \\left(\\frac{\\cos^{2}{\\left(\\theta \\right)}}{2} + \\frac{1}{2}\\right)}{\\left(\\alpha \\left(1 - \\cos{\\left(\\theta \\right)}\\right) + 1\\right)^{2}}$"
      ],
      "text/plain": [
       "(\\alpha**2*(1 - cos(\\theta))**2/((\\alpha*(1 - cos(\\theta)) + 1)*(cos(\\theta)**2 + 1)) + 1)*(cos(\\theta)**2/2 + 1/2)/(\\alpha*(1 - cos(\\theta)) + 1)**2"
      ]
     },
     "execution_count": 8,
     "metadata": {},
     "output_type": "execute_result"
    }
   ],
   "source": [
    "dsdo =smp.Rational(1,2)*(1+smp.cos(theta)**2)/(1+alpha*(1-smp.cos(theta)))**2 * \\\n",
    "(1+alpha**2*(1-smp.cos(theta))**2/((1+smp.cos(theta)**2)*(1+alpha*(1-smp.cos(theta)))))\n",
    "dsdo"
   ]
  },
  {
   "cell_type": "code",
   "execution_count": 9,
   "id": "5becefa6",
   "metadata": {},
   "outputs": [
    {
     "data": {
      "text/latex": [
       "$\\displaystyle \\frac{\\pi \\left(- \\alpha^{2} \\left(\\cos{\\left(\\theta \\right)} - 1\\right)^{2} + \\left(\\alpha \\left(\\cos{\\left(\\theta \\right)} - 1\\right) - 1\\right) \\left(\\cos^{2}{\\left(\\theta \\right)} + 1\\right)\\right) \\sin{\\left(\\theta \\right)}}{\\left(\\alpha \\left(\\cos{\\left(\\theta \\right)} - 1\\right) - 1\\right)^{3}}$"
      ],
      "text/plain": [
       "pi*(-\\alpha**2*(cos(\\theta) - 1)**2 + (\\alpha*(cos(\\theta) - 1) - 1)*(cos(\\theta)**2 + 1))*sin(\\theta)/(\\alpha*(cos(\\theta) - 1) - 1)**3"
      ]
     },
     "execution_count": 9,
     "metadata": {},
     "output_type": "execute_result"
    }
   ],
   "source": [
    "dsdt = 2*smp.pi*dsdo*smp.sin(theta)\n",
    "dsdt=dsdt.simplify()\n",
    "dsdt"
   ]
  },
  {
   "cell_type": "code",
   "execution_count": 10,
   "id": "71897ddf",
   "metadata": {},
   "outputs": [
    {
     "data": {
      "text/latex": [
       "$\\displaystyle - \\pi \\left(\\frac{\\log{\\left(- \\frac{1}{\\alpha} \\right)}}{\\alpha} - \\frac{1}{2 \\alpha} - \\frac{2 \\log{\\left(- \\frac{1}{\\alpha} \\right)}}{\\alpha^{2}} - \\frac{5}{\\alpha^{2}} - \\frac{2 \\log{\\left(- \\frac{1}{\\alpha} \\right)}}{\\alpha^{3}} - \\frac{3}{\\alpha^{3}}\\right) + \\pi \\left(\\frac{8 \\alpha^{4} \\log{\\left(-2 - \\frac{1}{\\alpha} \\right)}}{8 \\alpha^{5} + 8 \\alpha^{4} + 2 \\alpha^{3}} - \\frac{8 \\alpha^{3} \\log{\\left(-2 - \\frac{1}{\\alpha} \\right)}}{8 \\alpha^{5} + 8 \\alpha^{4} + 2 \\alpha^{3}} - \\frac{8 \\alpha^{3}}{8 \\alpha^{5} + 8 \\alpha^{4} + 2 \\alpha^{3}} - \\frac{30 \\alpha^{2} \\log{\\left(-2 - \\frac{1}{\\alpha} \\right)}}{8 \\alpha^{5} + 8 \\alpha^{4} + 2 \\alpha^{3}} - \\frac{33 \\alpha^{2}}{8 \\alpha^{5} + 8 \\alpha^{4} + 2 \\alpha^{3}} - \\frac{20 \\alpha \\log{\\left(-2 - \\frac{1}{\\alpha} \\right)}}{8 \\alpha^{5} + 8 \\alpha^{4} + 2 \\alpha^{3}} - \\frac{26 \\alpha}{8 \\alpha^{5} + 8 \\alpha^{4} + 2 \\alpha^{3}} - \\frac{4 \\log{\\left(-2 - \\frac{1}{\\alpha} \\right)}}{8 \\alpha^{5} + 8 \\alpha^{4} + 2 \\alpha^{3}} - \\frac{6}{8 \\alpha^{5} + 8 \\alpha^{4} + 2 \\alpha^{3}}\\right)$"
      ],
      "text/plain": [
       "-pi*(log(-1/\\alpha)/\\alpha - 1/(2*\\alpha) - 2*log(-1/\\alpha)/\\alpha**2 - 5/\\alpha**2 - 2*log(-1/\\alpha)/\\alpha**3 - 3/\\alpha**3) + pi*(8*\\alpha**4*log(-2 - 1/\\alpha)/(8*\\alpha**5 + 8*\\alpha**4 + 2*\\alpha**3) - 8*\\alpha**3*log(-2 - 1/\\alpha)/(8*\\alpha**5 + 8*\\alpha**4 + 2*\\alpha**3) - 8*\\alpha**3/(8*\\alpha**5 + 8*\\alpha**4 + 2*\\alpha**3) - 30*\\alpha**2*log(-2 - 1/\\alpha)/(8*\\alpha**5 + 8*\\alpha**4 + 2*\\alpha**3) - 33*\\alpha**2/(8*\\alpha**5 + 8*\\alpha**4 + 2*\\alpha**3) - 20*\\alpha*log(-2 - 1/\\alpha)/(8*\\alpha**5 + 8*\\alpha**4 + 2*\\alpha**3) - 26*\\alpha/(8*\\alpha**5 + 8*\\alpha**4 + 2*\\alpha**3) - 4*log(-2 - 1/\\alpha)/(8*\\alpha**5 + 8*\\alpha**4 + 2*\\alpha**3) - 6/(8*\\alpha**5 + 8*\\alpha**4 + 2*\\alpha**3))"
      ]
     },
     "execution_count": 10,
     "metadata": {},
     "output_type": "execute_result"
    }
   ],
   "source": [
    "s = smp.integrate(dsdt, (theta, 0, smp.pi))\n",
    "s"
   ]
  },
  {
   "cell_type": "code",
   "execution_count": 13,
   "id": "f82115d5",
   "metadata": {},
   "outputs": [
    {
     "data": {
      "text/latex": [
       "$\\displaystyle \\frac{\\pi \\left(2 \\alpha^{4} + 18 \\alpha^{3} + 16 \\alpha^{2} + 4 \\alpha - \\left(- 4 \\alpha^{4} + 4 \\alpha^{3} + 15 \\alpha^{2} + 10 \\alpha + 2\\right) \\log{\\left(2 \\alpha + 1 \\right)}\\right)}{\\alpha^{3} \\cdot \\left(4 \\alpha^{2} + 4 \\alpha + 1\\right)}$"
      ],
      "text/plain": [
       "pi*(2*\\alpha**4 + 18*\\alpha**3 + 16*\\alpha**2 + 4*\\alpha - (-4*\\alpha**4 + 4*\\alpha**3 + 15*\\alpha**2 + 10*\\alpha + 2)*log(2*\\alpha + 1))/(\\alpha**3*(4*\\alpha**2 + 4*\\alpha + 1))"
      ]
     },
     "execution_count": 13,
     "metadata": {},
     "output_type": "execute_result"
    }
   ],
   "source": [
    "s = s.simplify().simplify()\n",
    "s"
   ]
  },
  {
   "cell_type": "markdown",
   "id": "4c566e3f",
   "metadata": {},
   "source": [
    "# Part C\n",
    "* Extremely Important Point: If the flux of particles is uniform then \n",
    "$$p(\\theta) = f(\\theta)d\\theta \\approx \\frac{d\\sigma}{d\\theta}d\\theta$$\n",
    "* so we can write \n",
    "$$\n",
    "f(\\theta) = C\\frac{d\\sigma}{d\\theta}\n",
    "$$\n",
    "* Now we need to enforce $\\int_{0}^{\\pi}d\\theta = 1$ so this means \n",
    "$$ \n",
    "1 = \\int_{0}^{\\pi}f(\\theta) d\\theta =C \\int_{0}^{\\pi}\\frac{d\\sigma}{d\\theta} = C\\sigma\n",
    "$$\n",
    "\n",
    "and $$C = 1/\\sigma$$\n",
    "$$$$\n",
    "$$f(\\theta) = \\frac{1}{\\sigma}\\frac{d\\sigma}{d\\theta}$$"
   ]
  },
  {
   "cell_type": "code",
   "execution_count": 16,
   "id": "f58995ab",
   "metadata": {},
   "outputs": [
    {
     "data": {
      "text/latex": [
       "$\\displaystyle - \\frac{\\alpha^{3} \\left(\\alpha^{2} \\left(\\cos{\\left(\\theta \\right)} - 1\\right)^{2} - \\left(\\alpha \\left(\\cos{\\left(\\theta \\right)} - 1\\right) - 1\\right) \\left(\\cos^{2}{\\left(\\theta \\right)} + 1\\right)\\right) \\left(4 \\alpha^{2} + 4 \\alpha + 1\\right) \\sin{\\left(\\theta \\right)}}{\\left(\\alpha \\left(\\cos{\\left(\\theta \\right)} - 1\\right) - 1\\right)^{3} \\cdot \\left(2 \\alpha^{4} + 18 \\alpha^{3} + 16 \\alpha^{2} + 4 \\alpha - \\left(- 4 \\alpha^{4} + 4 \\alpha^{3} + 15 \\alpha^{2} + 10 \\alpha + 2\\right) \\log{\\left(2 \\alpha + 1 \\right)}\\right)}$"
      ],
      "text/plain": [
       "-\\alpha**3*(\\alpha**2*(cos(\\theta) - 1)**2 - (\\alpha*(cos(\\theta) - 1) - 1)*(cos(\\theta)**2 + 1))*(4*\\alpha**2 + 4*\\alpha + 1)*sin(\\theta)/((\\alpha*(cos(\\theta) - 1) - 1)**3*(2*\\alpha**4 + 18*\\alpha**3 + 16*\\alpha**2 + 4*\\alpha - (-4*\\alpha**4 + 4*\\alpha**3 + 15*\\alpha**2 + 10*\\alpha + 2)*log(2*\\alpha + 1)))"
      ]
     },
     "execution_count": 16,
     "metadata": {},
     "output_type": "execute_result"
    }
   ],
   "source": [
    "pdf_theta = dsdt/s\n",
    "pdf_theta = pdf_theta.simplify()\n",
    "pdf_theta"
   ]
  },
  {
   "cell_type": "code",
   "execution_count": null,
   "id": "46e3fdf3",
   "metadata": {},
   "outputs": [],
   "source": []
  },
  {
   "cell_type": "raw",
   "id": "6909f4f4",
   "metadata": {},
   "source": [
    "$$\\g$$"
   ]
  },
  {
   "cell_type": "code",
   "execution_count": 14,
   "id": "85a0a0b0",
   "metadata": {},
   "outputs": [
    {
     "data": {
      "text/latex": [
       "$\\displaystyle \\frac{\\alpha^{3} \\left(- \\alpha^{2} \\left(\\cos{\\left(\\theta \\right)} - 1\\right)^{2} + \\left(\\alpha \\left(\\cos{\\left(\\theta \\right)} - 1\\right) - 1\\right) \\left(\\cos^{2}{\\left(\\theta \\right)} + 1\\right)\\right) \\left(4 \\alpha^{2} + 4 \\alpha + 1\\right)}{2 \\pi \\left(\\alpha \\left(\\cos{\\left(\\theta \\right)} - 1\\right) - 1\\right)^{3} \\cdot \\left(2 \\alpha^{4} + 18 \\alpha^{3} + 16 \\alpha^{2} + 4 \\alpha - \\left(- 4 \\alpha^{4} + 4 \\alpha^{3} + 15 \\alpha^{2} + 10 \\alpha + 2\\right) \\log{\\left(2 \\alpha + 1 \\right)}\\right)}$"
      ],
      "text/plain": [
       "\\alpha**3*(-\\alpha**2*(cos(\\theta) - 1)**2 + (\\alpha*(cos(\\theta) - 1) - 1)*(cos(\\theta)**2 + 1))*(4*\\alpha**2 + 4*\\alpha + 1)/(2*pi*(\\alpha*(cos(\\theta) - 1) - 1)**3*(2*\\alpha**4 + 18*\\alpha**3 + 16*\\alpha**2 + 4*\\alpha - (-4*\\alpha**4 + 4*\\alpha**3 + 15*\\alpha**2 + 10*\\alpha + 2)*log(2*\\alpha + 1)))"
      ]
     },
     "execution_count": 14,
     "metadata": {},
     "output_type": "execute_result"
    }
   ],
   "source": [
    "pdf_omega = dsdo/s\n",
    "pdf_omega = pdf_omega.simplify()\n",
    "pdf_omega"
   ]
  },
  {
   "cell_type": "markdown",
   "id": "2dc3af10",
   "metadata": {},
   "source": [
    "# creating numeric function from analitical"
   ]
  },
  {
   "cell_type": "code",
   "execution_count": 20,
   "id": "3cc43496",
   "metadata": {},
   "outputs": [],
   "source": [
    "pdf_theta_f = smp.lambdify([theta, alpha], pdf_theta)\n",
    "pdf_omega_f = smp.lambdify([theta, alpha], pdf_omega)"
   ]
  },
  {
   "cell_type": "code",
   "execution_count": null,
   "id": "f5e0fb31",
   "metadata": {},
   "outputs": [],
   "source": [
    "# do the plot for alpha = 2"
   ]
  },
  {
   "cell_type": "code",
   "execution_count": 21,
   "id": "d6196b61",
   "metadata": {},
   "outputs": [],
   "source": [
    "the = np.linspace(0, np.pi, 1000)\n",
    "pdf_t = pdf_theta_f(the, 0.1)\n",
    "pdf_o = pdf_omega_f(the, 0.1)"
   ]
  },
  {
   "cell_type": "markdown",
   "id": "a1fb81f4",
   "metadata": {},
   "source": [
    "# use a ppolar plot for representation .where theta is the radius represents the probability."
   ]
  },
  {
   "cell_type": "code",
   "execution_count": 24,
   "id": "f5251a0a",
   "metadata": {},
   "outputs": [
    {
     "data": {
      "text/plain": [
       "Text(0.5, 1.0, '$g(\\\\theta, \\\\phi)$')"
      ]
     },
     "execution_count": 24,
     "metadata": {},
     "output_type": "execute_result"
    },
    {
     "data": {
      "image/png": "[encoded data removed]",
      "text/plain": [
       "<Figure size 432x288 with 2 Axes>"
      ]
     },
     "metadata": {
      "needs_background": "light"
     },
     "output_type": "display_data"
    }
   ],
   "source": [
    "fig, axes = plt.subplots(1,2, subplot_kw ={'projection': 'polar'})\n",
    "axes[0].plot(the, pdf_t)\n",
    "axes[0].set_title(r'$f(\\theta)$', fontsize=20)\n",
    "axes[1].plot(the, pdf_o)\n",
    "axes[1].set_title(r'$g(\\theta, \\phi)$', fontsize=20)"
   ]
  },
  {
   "cell_type": "code",
   "execution_count": null,
   "id": "8740d1ee",
   "metadata": {},
   "outputs": [],
   "source": []
  },
  {
   "cell_type": "code",
   "execution_count": null,
   "id": "c0da6e92",
   "metadata": {},
   "outputs": [],
   "source": []
  },
  {
   "cell_type": "code",
   "execution_count": null,
   "id": "97b3736e",
   "metadata": {},
   "outputs": [],
   "source": []
  },
  {
   "cell_type": "code",
   "execution_count": null,
   "id": "6d4dbb88",
   "metadata": {},
   "outputs": [],
   "source": []
  },
  {
   "cell_type": "code",
   "execution_count": null,
   "id": "4818c909",
   "metadata": {},
   "outputs": [],
   "source": []
  }
 ],
 "metadata": {
  "kernelspec": {
   "display_name": "Python 3 (ipykernel)",
   "language": "python",
   "name": "python3"
  },
  "language_info": {
   "codemirror_mode": {
    "name": "ipython",
    "version": 3
   },
   "file_extension": ".py",
   "mimetype": "text/x-python",
   "name": "python",
   "nbconvert_exporter": "python",
   "pygments_lexer": "ipython3",
   "version": "3.10.5"
  }
 },
 "nbformat": 4,
 "nbformat_minor": 5
}
